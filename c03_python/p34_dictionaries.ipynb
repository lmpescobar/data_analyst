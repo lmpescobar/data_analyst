{
 "cells": [
  {
   "cell_type": "code",
   "execution_count": 2,
   "metadata": {},
   "outputs": [
    {
     "name": "stdout",
     "output_type": "stream",
     "text": [
      "74\n"
     ]
    }
   ],
   "source": [
    "# 52. Iteration - Iterating over Dictionaries\n",
    "\n",
    "prices = {\n",
    "\n",
    "    \"box_of_spaghetti\": 4,\n",
    "\n",
    "    \"lasagna\" : 5,\n",
    "\n",
    "    \"hamburger\":2\n",
    "}\n",
    "\n",
    "quantity = {\n",
    "\n",
    "    \"box_of_spaghetti\": 6,\n",
    "\n",
    "    \"lasagna\": 10,\n",
    "\n",
    "    \"hamburger\":0\n",
    "\n",
    "}\n",
    "\n",
    "money_spent = 0\n",
    "\n",
    "for i in prices:\n",
    "    money_spent = money_spent + (prices[i] * quantity[i])\n",
    "print (money_spent)"
   ]
  }
 ],
 "metadata": {
  "kernelspec": {
   "display_name": "Python 3",
   "language": "python",
   "name": "python3"
  },
  "language_info": {
   "codemirror_mode": {
    "name": "ipython",
    "version": 3
   },
   "file_extension": ".py",
   "mimetype": "text/x-python",
   "name": "python",
   "nbconvert_exporter": "python",
   "pygments_lexer": "ipython3",
   "version": "3.12.3"
  },
  "orig_nbformat": 4
 },
 "nbformat": 4,
 "nbformat_minor": 2
}
